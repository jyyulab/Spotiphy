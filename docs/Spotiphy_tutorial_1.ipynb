{
 "cells": [
  {
   "cell_type": "markdown",
   "metadata": {
    "id": "z_7XNPUn7ba5"
   },
   "source": [
    "# Deconvolution and decomposition of Visium data with Spotiphy\n",
    "- by Ziqian Zheng <zzheng92@wisc.edu> and Jiyuna Yang <jiyuan.yang@stjude.org>.\n",
    "- Last update: Nov 29th 2023"
   ]
  },
  {
   "cell_type": "markdown",
   "metadata": {
    "id": "JATWpa258NQJ"
   },
   "source": [
    "## Contents\n",
    "1. [Install and load packages](#Install)\n",
    "2. [Load Visium and scRNA data](#Load-data)\n",
    "3. [Select marker genes for the deconvolution](#Marker)\n",
    "4. [Deconvolution: Estimate cell abundance in spatial spots](#Deconvolution)\n",
    "5. [Segmentation: Estimate cell number in each spatial spot](#Segmentation)\n",
    "6. [Decomposition: Decompose the expression of each spatial spot into single-cell level](#Decomposition)\n",
    "7. [Generate pseudo single-cell resolution image](#Pseudo_image)"
   ]
  },
  {
   "cell_type": "markdown",
   "metadata": {
    "id": "TQS6bU2J8O2U"
   },
   "source": [
    "## Install and load packages <a name=\"Install\"></a>\n",
    "If you're using you local environment, please ensure that `spotiphy` is correctly installed by following the instructions on its [GitHub page](https://github.com/jyyulab/Spotiphy).\n",
    "\n",
    "If you're using Google Colab, please execute the following code block to install `spotiphy` and all its dependencies.\n",
    "\n",
    "**😮Important:** To get enough RAM, [Colab Pro](https://colab.research.google.com/signup) might be needed.\n",
    "\n",
    "For the first time the following code block is executed in Google Colab, you may get an error of inconsistent package versions like this:\n",
    "\n",
    "* ERROR: pip's dependency resolver does not currently take into account all the packages that are installed. This behaviour is the source of the following dependency conflicts.\n",
    "\n",
    "To solve this issue, simply ignore this error and **restart the runtime**. Then you will be able to load the packages correctly."
   ]
  },
  {
   "cell_type": "code",
   "execution_count": 1,
   "metadata": {
    "ExecuteTime": {
     "end_time": "2023-12-08T03:52:01.903559800Z",
     "start_time": "2023-12-08T03:52:01.898506500Z"
    },
    "id": "vmqEz8Mz7V3o"
   },
   "outputs": [],
   "source": [
    "import sys\n",
    "IN_COLAB = \"google.colab\" in sys.modules\n",
    "if IN_COLAB:\n",
    "    !pip install -qq spotiphy"
   ]
  },
  {
   "cell_type": "code",
   "execution_count": 2,
   "metadata": {
    "ExecuteTime": {
     "end_time": "2023-12-08T03:52:11.187510400Z",
     "start_time": "2023-12-08T03:52:01.906425500Z"
    },
    "id": "IKopa-Ae9cpI"
   },
   "outputs": [],
   "source": [
    "import spotiphy\n",
    "import os\n",
    "import pickle\n",
    "import numpy as np\n",
    "import pandas as pd\n",
    "import matplotlib as mpl\n",
    "import scanpy as sc\n",
    "import torch\n",
    "import cv2\n",
    "\n",
    "results_folder = './results/mouse_brain/'\n",
    "if not os.path.exists(results_folder):\n",
    "  # Create result folder if it does not exist\n",
    "  os.makedirs(results_folder)"
   ]
  },
  {
   "cell_type": "markdown",
   "metadata": {
    "id": "ahZdNTwbGYTX"
   },
   "source": [
    "## Load Visium and scRNA data <a name=\"Load-data\"></a>"
   ]
  },
  {
   "cell_type": "markdown",
   "metadata": {
    "id": "wMGGSujuNPqs"
   },
   "source": [
    "We first load the scRNA data, visium data and the corresponding H&E staining image."
   ]
  },
  {
   "cell_type": "code",
   "execution_count": 3,
   "metadata": {
    "ExecuteTime": {
     "end_time": "2023-12-08T03:52:12.691210100Z",
     "start_time": "2023-12-08T03:52:11.191511400Z"
    },
    "collapsed": false
   },
   "outputs": [
    {
     "ename": "FileNotFoundError",
     "evalue": "[Errno 2] Unable to open file (unable to open file: name = 'data/scRNA_mouse_brain.h5ad', errno = 2, error message = 'No such file or directory', flags = 0, o_flags = 0)",
     "output_type": "error",
     "traceback": [
      "\u001b[1;31m---------------------------------------------------------------------------\u001b[0m",
      "\u001b[1;31mFileNotFoundError\u001b[0m                         Traceback (most recent call last)",
      "Cell \u001b[1;32mIn[3], line 1\u001b[0m\n\u001b[1;32m----> 1\u001b[0m adata_sc \u001b[38;5;241m=\u001b[39m \u001b[43msc\u001b[49m\u001b[38;5;241;43m.\u001b[39;49m\u001b[43mread_h5ad\u001b[49m\u001b[43m(\u001b[49m\u001b[38;5;124;43m\"\u001b[39;49m\u001b[38;5;124;43mdata/scRNA_mouse_brain.h5ad\u001b[39;49m\u001b[38;5;124;43m\"\u001b[39;49m\u001b[43m)\u001b[49m\n\u001b[0;32m      2\u001b[0m adata_st \u001b[38;5;241m=\u001b[39m sc\u001b[38;5;241m.\u001b[39mread_h5ad(\u001b[38;5;124m\"\u001b[39m\u001b[38;5;124mdata/ST_mouse_brain.h5ad\u001b[39m\u001b[38;5;124m\"\u001b[39m)\n\u001b[0;32m      3\u001b[0m adata_sc_orig \u001b[38;5;241m=\u001b[39m adata_sc\u001b[38;5;241m.\u001b[39mcopy()\n",
      "File \u001b[1;32m~\\Anaconda3\\envs\\spotiphy\\lib\\site-packages\\anndata\\_io\\h5ad.py:219\u001b[0m, in \u001b[0;36mread_h5ad\u001b[1;34m(filename, backed, as_sparse, as_sparse_fmt, chunk_size)\u001b[0m\n\u001b[0;32m    211\u001b[0m         \u001b[38;5;28;01mraise\u001b[39;00m \u001b[38;5;167;01mNotImplementedError\u001b[39;00m(\n\u001b[0;32m    212\u001b[0m             \u001b[38;5;124m\"\u001b[39m\u001b[38;5;124mCurrently only `X` and `raw/X` can be read as sparse.\u001b[39m\u001b[38;5;124m\"\u001b[39m\n\u001b[0;32m    213\u001b[0m         )\n\u001b[0;32m    215\u001b[0m rdasp \u001b[38;5;241m=\u001b[39m partial(\n\u001b[0;32m    216\u001b[0m     read_dense_as_sparse, sparse_format\u001b[38;5;241m=\u001b[39mas_sparse_fmt, axis_chunk\u001b[38;5;241m=\u001b[39mchunk_size\n\u001b[0;32m    217\u001b[0m )\n\u001b[1;32m--> 219\u001b[0m \u001b[38;5;28;01mwith\u001b[39;00m \u001b[43mh5py\u001b[49m\u001b[38;5;241;43m.\u001b[39;49m\u001b[43mFile\u001b[49m\u001b[43m(\u001b[49m\u001b[43mfilename\u001b[49m\u001b[43m,\u001b[49m\u001b[43m \u001b[49m\u001b[38;5;124;43m\"\u001b[39;49m\u001b[38;5;124;43mr\u001b[39;49m\u001b[38;5;124;43m\"\u001b[39;49m\u001b[43m)\u001b[49m \u001b[38;5;28;01mas\u001b[39;00m f:\n\u001b[0;32m    221\u001b[0m     \u001b[38;5;28;01mdef\u001b[39;00m \u001b[38;5;21mcallback\u001b[39m(func, elem_name: \u001b[38;5;28mstr\u001b[39m, elem, iospec):\n\u001b[0;32m    222\u001b[0m         \u001b[38;5;28;01mif\u001b[39;00m iospec\u001b[38;5;241m.\u001b[39mencoding_type \u001b[38;5;241m==\u001b[39m \u001b[38;5;124m\"\u001b[39m\u001b[38;5;124manndata\u001b[39m\u001b[38;5;124m\"\u001b[39m \u001b[38;5;129;01mor\u001b[39;00m elem_name\u001b[38;5;241m.\u001b[39mendswith(\u001b[38;5;124m\"\u001b[39m\u001b[38;5;124m/\u001b[39m\u001b[38;5;124m\"\u001b[39m):\n",
      "File \u001b[1;32m~\\Anaconda3\\envs\\spotiphy\\lib\\site-packages\\h5py\\_hl\\files.py:567\u001b[0m, in \u001b[0;36mFile.__init__\u001b[1;34m(self, name, mode, driver, libver, userblock_size, swmr, rdcc_nslots, rdcc_nbytes, rdcc_w0, track_order, fs_strategy, fs_persist, fs_threshold, fs_page_size, page_buf_size, min_meta_keep, min_raw_keep, locking, alignment_threshold, alignment_interval, meta_block_size, **kwds)\u001b[0m\n\u001b[0;32m    558\u001b[0m     fapl \u001b[38;5;241m=\u001b[39m make_fapl(driver, libver, rdcc_nslots, rdcc_nbytes, rdcc_w0,\n\u001b[0;32m    559\u001b[0m                      locking, page_buf_size, min_meta_keep, min_raw_keep,\n\u001b[0;32m    560\u001b[0m                      alignment_threshold\u001b[38;5;241m=\u001b[39malignment_threshold,\n\u001b[0;32m    561\u001b[0m                      alignment_interval\u001b[38;5;241m=\u001b[39malignment_interval,\n\u001b[0;32m    562\u001b[0m                      meta_block_size\u001b[38;5;241m=\u001b[39mmeta_block_size,\n\u001b[0;32m    563\u001b[0m                      \u001b[38;5;241m*\u001b[39m\u001b[38;5;241m*\u001b[39mkwds)\n\u001b[0;32m    564\u001b[0m     fcpl \u001b[38;5;241m=\u001b[39m make_fcpl(track_order\u001b[38;5;241m=\u001b[39mtrack_order, fs_strategy\u001b[38;5;241m=\u001b[39mfs_strategy,\n\u001b[0;32m    565\u001b[0m                      fs_persist\u001b[38;5;241m=\u001b[39mfs_persist, fs_threshold\u001b[38;5;241m=\u001b[39mfs_threshold,\n\u001b[0;32m    566\u001b[0m                      fs_page_size\u001b[38;5;241m=\u001b[39mfs_page_size)\n\u001b[1;32m--> 567\u001b[0m     fid \u001b[38;5;241m=\u001b[39m \u001b[43mmake_fid\u001b[49m\u001b[43m(\u001b[49m\u001b[43mname\u001b[49m\u001b[43m,\u001b[49m\u001b[43m \u001b[49m\u001b[43mmode\u001b[49m\u001b[43m,\u001b[49m\u001b[43m \u001b[49m\u001b[43muserblock_size\u001b[49m\u001b[43m,\u001b[49m\u001b[43m \u001b[49m\u001b[43mfapl\u001b[49m\u001b[43m,\u001b[49m\u001b[43m \u001b[49m\u001b[43mfcpl\u001b[49m\u001b[43m,\u001b[49m\u001b[43m \u001b[49m\u001b[43mswmr\u001b[49m\u001b[38;5;241;43m=\u001b[39;49m\u001b[43mswmr\u001b[49m\u001b[43m)\u001b[49m\n\u001b[0;32m    569\u001b[0m \u001b[38;5;28;01mif\u001b[39;00m \u001b[38;5;28misinstance\u001b[39m(libver, \u001b[38;5;28mtuple\u001b[39m):\n\u001b[0;32m    570\u001b[0m     \u001b[38;5;28mself\u001b[39m\u001b[38;5;241m.\u001b[39m_libver \u001b[38;5;241m=\u001b[39m libver\n",
      "File \u001b[1;32m~\\Anaconda3\\envs\\spotiphy\\lib\\site-packages\\h5py\\_hl\\files.py:231\u001b[0m, in \u001b[0;36mmake_fid\u001b[1;34m(name, mode, userblock_size, fapl, fcpl, swmr)\u001b[0m\n\u001b[0;32m    229\u001b[0m     \u001b[38;5;28;01mif\u001b[39;00m swmr \u001b[38;5;129;01mand\u001b[39;00m swmr_support:\n\u001b[0;32m    230\u001b[0m         flags \u001b[38;5;241m|\u001b[39m\u001b[38;5;241m=\u001b[39m h5f\u001b[38;5;241m.\u001b[39mACC_SWMR_READ\n\u001b[1;32m--> 231\u001b[0m     fid \u001b[38;5;241m=\u001b[39m \u001b[43mh5f\u001b[49m\u001b[38;5;241;43m.\u001b[39;49m\u001b[43mopen\u001b[49m\u001b[43m(\u001b[49m\u001b[43mname\u001b[49m\u001b[43m,\u001b[49m\u001b[43m \u001b[49m\u001b[43mflags\u001b[49m\u001b[43m,\u001b[49m\u001b[43m \u001b[49m\u001b[43mfapl\u001b[49m\u001b[38;5;241;43m=\u001b[39;49m\u001b[43mfapl\u001b[49m\u001b[43m)\u001b[49m\n\u001b[0;32m    232\u001b[0m \u001b[38;5;28;01melif\u001b[39;00m mode \u001b[38;5;241m==\u001b[39m \u001b[38;5;124m'\u001b[39m\u001b[38;5;124mr+\u001b[39m\u001b[38;5;124m'\u001b[39m:\n\u001b[0;32m    233\u001b[0m     fid \u001b[38;5;241m=\u001b[39m h5f\u001b[38;5;241m.\u001b[39mopen(name, h5f\u001b[38;5;241m.\u001b[39mACC_RDWR, fapl\u001b[38;5;241m=\u001b[39mfapl)\n",
      "File \u001b[1;32mh5py\\_objects.pyx:54\u001b[0m, in \u001b[0;36mh5py._objects.with_phil.wrapper\u001b[1;34m()\u001b[0m\n",
      "File \u001b[1;32mh5py\\_objects.pyx:55\u001b[0m, in \u001b[0;36mh5py._objects.with_phil.wrapper\u001b[1;34m()\u001b[0m\n",
      "File \u001b[1;32mh5py\\h5f.pyx:106\u001b[0m, in \u001b[0;36mh5py.h5f.open\u001b[1;34m()\u001b[0m\n",
      "\u001b[1;31mFileNotFoundError\u001b[0m: [Errno 2] Unable to open file (unable to open file: name = 'data/scRNA_mouse_brain.h5ad', errno = 2, error message = 'No such file or directory', flags = 0, o_flags = 0)"
     ]
    }
   ],
   "source": [
    "adata_sc = sc.read_h5ad(\"data/scRNA_mouse_brain.h5ad\")\n",
    "adata_st = sc.read_h5ad(\"data/ST_mouse_brain.h5ad\")\n",
    "adata_sc_orig = adata_sc.copy()\n",
    "adata_st_orig = adata_st.copy()\n",
    "img = cv2.imread(\"data/img_mouse_brain.png\")\n",
    "\n",
    "key_type = 'celltype'\n",
    "type_list = sorted(list(adata_sc.obs[key_type].unique()))\n",
    "print(f'There are {len(type_list)} cell types: {type_list}')"
   ]
  },
  {
   "cell_type": "code",
   "execution_count": null,
   "metadata": {
    "ExecuteTime": {
     "end_time": "2023-12-08T03:52:12.700216300Z",
     "start_time": "2023-12-08T03:52:12.698216200Z"
    },
    "colab": {
     "base_uri": "https://localhost:8080/",
     "height": 286
    },
    "id": "nSsCR_x0M99W",
    "outputId": "084e07d9-84ac-4c4e-b189-c9401ba417bd"
   },
   "outputs": [],
   "source": [
    "fig, axs = mpl.pyplot.subplots(1, 3, figsize=(20, 5))\n",
    "sc.pl.spatial(adata_st, color=\"in_tissue\", frameon=False, show=False, ax=axs[0])\n",
    "sc.pl.umap(adata_sc, color=\"celltype\", size=10, frameon=False, show=False, ax=axs[1])\n",
    "axs[2].imshow(img[:, :, [2, 1, 0]])  # In default, cv2 uses BGR. So we convert BGR to RGB.\n",
    "axs[2].axis('off')\n",
    "mpl.pyplot.tight_layout()"
   ]
  },
  {
   "cell_type": "markdown",
   "metadata": {
    "id": "8N7MMq89Taox"
   },
   "source": [
    "## Select marker genes for the deconvolution <a name=\"Marker\"></a>\n",
    "Initialize the spatial trancriptomics and scRNA data. Specifically,\n",
    "- `adata_sc` and `adata_st` are normalized\n",
    "- cells and genes in `adata_sc` are filtered\n",
    "- only the common genes of `adata_sc` and `adata_st` are kept"
   ]
  },
  {
   "cell_type": "code",
   "execution_count": null,
   "metadata": {
    "ExecuteTime": {
     "start_time": "2023-12-08T03:52:12.705211600Z"
    },
    "colab": {
     "base_uri": "https://localhost:8080/"
    },
    "id": "zhcQTxtpQQ_b",
    "outputId": "ca5ddcad-0633-4706-87c1-8352a8918fb5"
   },
   "outputs": [],
   "source": [
    "adata_sc, adata_st = spotiphy.initialization(adata_sc, adata_st, verbose=1)"
   ]
  },
  {
   "cell_type": "markdown",
   "metadata": {
    "id": "JoGL8T6VT6_j"
   },
   "source": [
    "Select marker genes based on pairwise statistical tests. The selected marker genes are saved as a CSV file.\n",
    "\n",
    "Users can adjust the following arguments:\n",
    "- `n_select`: the maximum number of marker genes select for each cell type\n",
    "- `threshold_p`: threshold of the $p$-value to be considered significant\n",
    "- `threshold_fold`: threshold of the fold-change to be considered significant\n",
    "- `q`: Since more than one $p$-values are obtained in using the pairwise tests, we only consider the $p$-value at quantile `q`. For additional details, please refer to the supplementary material of the paper."
   ]
  },
  {
   "cell_type": "code",
   "execution_count": null,
   "metadata": {
    "ExecuteTime": {
     "start_time": "2023-12-08T03:52:12.711215300Z"
    },
    "collapsed": false
   },
   "outputs": [],
   "source": [
    "marker_gene_dict = spotiphy.sc_reference.marker_selection(adata_sc, key_type=key_type, return_dict=True, \n",
    "                                                          n_select=50, threshold_p=0.1, threshold_fold=1.5, \n",
    "                                                          q=0.15)\n",
    "marker_gene = []\n",
    "marker_gene_label = []\n",
    "for type_ in type_list:\n",
    "    marker_gene.extend(marker_gene_dict[type_])\n",
    "    marker_gene_label.extend([type_]*len(marker_gene_dict[type_]))\n",
    "marker_gene_df = pd.DataFrame({'gene':marker_gene, 'label':marker_gene_label})\n",
    "marker_gene_df.to_csv(results_folder+'marker_gene.csv')\n",
    "adata_sc = adata_sc[:, marker_gene]\n",
    "adata_st = adata_st[:, marker_gene]"
   ]
  },
  {
   "cell_type": "markdown",
   "metadata": {
    "collapsed": false
   },
   "source": [
    "Construct the single_cell reference matrix based on the selected marker genes and visualize the results."
   ]
  },
  {
   "cell_type": "code",
   "execution_count": null,
   "metadata": {
    "ExecuteTime": {
     "start_time": "2023-12-08T03:52:12.716211900Z"
    },
    "collapsed": false
   },
   "outputs": [],
   "source": [
    "sc_ref = spotiphy.construct_sc_ref(adata_sc, key_type=key_type)\n",
    "spotiphy.sc_reference.plot_heatmap(adata_sc, key_type, save=True, out_dir=results_folder)"
   ]
  },
  {
   "cell_type": "markdown",
   "metadata": {
    "collapsed": false
   },
   "source": [
    "## Deconvolution: Estimate cell abundance in spatial spots <a name=\"Deconvolution\"></a>\n",
    "For performing the deconvolution, we calculate the posterior distribution of certain parameters within a \n",
    "probabilistic generative model using [`Pyro`](https://pyro.ai/)."
   ]
  },
  {
   "cell_type": "code",
   "execution_count": null,
   "metadata": {
    "ExecuteTime": {
     "end_time": "2023-12-08T03:52:12.741211900Z",
     "start_time": "2023-12-08T03:52:12.719211400Z"
    },
    "collapsed": false
   },
   "outputs": [],
   "source": [
    "device = 'cuda' if torch.cuda.is_available() else 'cpu'\n",
    "X = np.array(adata_st.X)\n",
    "cell_proportion = spotiphy.deconvolution.estimation_proportion(X, adata_sc, sc_ref, type_list, key_type, n_epoch=8000, \n",
    "                                                               plot=True, batch_prior=1, device=device)\n",
    "adata_st.obs[type_list] = cell_proportion\n",
    "np.save(results_folder+'proportion.npy', cell_proportion)  # Save the proportion for future usage"
   ]
  },
  {
   "cell_type": "code",
   "execution_count": null,
   "metadata": {
    "ExecuteTime": {
     "start_time": "2023-12-08T03:52:12.723211400Z"
    },
    "collapsed": false
   },
   "outputs": [],
   "source": [
    "vmax = np.quantile(adata_st.obs[type_list].values, 0.98, axis=0)\n",
    "vmax[vmax<0.05] = 0.05\n",
    "with mpl.rc_context({'figure.figsize': [3, 5], 'figure.dpi': 400, 'xtick.labelsize': 0}):\n",
    "    ax = sc.pl.spatial(adata_st, cmap='viridis', color=type_list, img_key='hires', vmin=0, vmax=list(vmax), \n",
    "                       size=1.3, show=False, ncols=5, alpha_img=0.4)\n",
    "    ax[0].get_figure().savefig(results_folder+'Spotiphy.jpg')"
   ]
  },
  {
   "cell_type": "markdown",
   "metadata": {
    "collapsed": false
   },
   "source": [
    "## Segmentation: Estimate cell number in each spatial spot <a name=\"Segmentation\"></a>\n",
    "We use the package `Stardist` to segmente nuclei from H&E staining image. Then the number of nuclei in each \n",
    "spot is counted."
   ]
  },
  {
   "cell_type": "code",
   "execution_count": null,
   "metadata": {
    "ExecuteTime": {
     "start_time": "2023-12-08T03:52:12.726214200Z"
    },
    "collapsed": false
   },
   "outputs": [],
   "source": [
    "if not os.path.exists(results_folder+'segmentation/'):\n",
    "    os.makedirs(results_folder+'segmentation/')\n",
    "Segmentation = spotiphy.segmentation.Segmentation(img[:, :, [2, 1, 0]], adata_st.obsm['spatial'], \n",
    "                                                  n_tiles=(2, 2, 1),\n",
    "                                                  out_dir=results_folder+'segmentation/')\n",
    "Segmentation.segment_nucleus(save=True)\n",
    "n_cell_df = Segmentation.n_cell_df"
   ]
  },
  {
   "cell_type": "markdown",
   "metadata": {
    "collapsed": false
   },
   "source": [
    "Plot a small section of the segmented results for examination."
   ]
  },
  {
   "cell_type": "code",
   "execution_count": null,
   "metadata": {
    "ExecuteTime": {
     "start_time": "2023-12-08T03:52:12.728214600Z"
    },
    "collapsed": false
   },
   "outputs": [],
   "source": [
    "Segmentation.plot(save=True, crop=(2000, 2500, 1000, 1500),\n",
    "                  path=results_folder+'segmentation/segmentation_sample.jpg')"
   ]
  },
  {
   "cell_type": "markdown",
   "metadata": {
    "collapsed": false
   },
   "source": [
    "We can save the class `Segmentation` for future usage."
   ]
  },
  {
   "cell_type": "code",
   "execution_count": null,
   "metadata": {
    "ExecuteTime": {
     "start_time": "2023-12-08T03:52:12.730216Z"
    },
    "collapsed": false
   },
   "outputs": [],
   "source": [
    "with open(results_folder+f'segmentation/Segmentation.pkl', 'wb') as file:\n",
    "    pickle.dump(Segmentation, file)"
   ]
  },
  {
   "cell_type": "markdown",
   "metadata": {
    "collapsed": false
   },
   "source": [
    "## Decomposition: Decompose the expression of each spatial spot into single-cell level <a name=\"Decomposition\"></a>\n"
   ]
  },
  {
   "cell_type": "code",
   "execution_count": null,
   "metadata": {
    "ExecuteTime": {
     "start_time": "2023-12-08T03:52:12.732215700Z"
    },
    "collapsed": false
   },
   "outputs": [],
   "source": [
    "adata_st_decomposed = spotiphy.deconvolution.decomposition(adata_st_orig, adata_sc_orig, key_type, \n",
    "                                                           cell_proportion, save=True,out_dir=results_folder, \n",
    "                                                           verbose=1, spot_location=adata_st.obsm['spatial'],\n",
    "                                                           filtering_gene=True, \n",
    "                                                           n_cell=n_cell_df['cell_count'].values,\n",
    "                                                           filename='ST_decomposition.h5ad')"
   ]
  },
  {
   "cell_type": "markdown",
   "metadata": {
    "collapsed": false
   },
   "source": [
    "## Generate pseudo single-cell resolution image <a name=\"Pseudo_image\"></a>\n",
    "As only the nuclei are stained in the H&E staining image, we first infer the boundary of each cell."
   ]
  },
  {
   "cell_type": "code",
   "execution_count": null,
   "metadata": {
    "ExecuteTime": {
     "start_time": "2023-12-08T03:52:12.734216Z"
    },
    "collapsed": false
   },
   "outputs": [],
   "source": [
    "search_direction = [[1, 0], [0, 1], [-1, 0], [0, -1], [2, 0], [0, 2], [-2, 0], [0, -2], \n",
    "                    [1, 1], [-1, 1], [-1, -1], [1, -1]]\n",
    "boundary_dict = spotiphy.segmentation.cell_boundary(Segmentation.nucleus_df[['x', 'y']].values, \n",
    "                                                    img_size=img.shape[:2], max_dist=25, max_area=580, \n",
    "                                                    verbose=0, search_direction=search_direction, delta=2)"
   ]
  },
  {
   "cell_type": "markdown",
   "metadata": {
    "collapsed": false
   },
   "source": [
    "We can save the dictionary of the cell boundaries for future usage."
   ]
  },
  {
   "cell_type": "code",
   "execution_count": null,
   "metadata": {
    "ExecuteTime": {
     "start_time": "2023-12-08T03:52:12.736210900Z"
    },
    "collapsed": false
   },
   "outputs": [],
   "source": [
    "with open(results_folder+f'segmentation/boundary_dict.pkl', 'wb') as file:\n",
    "    pickle.dump(boundary_dict, file)"
   ]
  },
  {
   "cell_type": "markdown",
   "metadata": {
    "collapsed": false
   },
   "source": [
    "Assign cell types to nuclei in the spatial tissue using these three steps:\n",
    "- Function `proportion_to_count`: compute the count of each cell type using the segmentation outcomes and the estimated proportions.\n",
    "- Function `assign_type_spot`: assign cell types to nuclei within the spots.\n",
    "- Function `cell_proportion_smooth`: allocate cell types to nuclei located outside the spots."
   ]
  },
  {
   "cell_type": "code",
   "execution_count": null,
   "metadata": {
    "ExecuteTime": {
     "start_time": "2023-12-08T03:52:12.737212600Z"
    },
    "collapsed": false
   },
   "outputs": [],
   "source": [
    "cell_number = spotiphy.deconvolution.proportion_to_count(cell_proportion, n_cell_df['cell_count'].values, \n",
    "                                                         multiple_spots=True)\n",
    "Segmentation.nucleus_df = (\n",
    "    spotiphy.deconvolution.assign_type_spot(Segmentation.nucleus_df, Segmentation.n_cell_df, \n",
    "                                            cell_number, type_list))\n",
    "Segmentation.nucleus_df, cell_proportion_smooth = (\n",
    "    spotiphy.deconvolution.assign_type_out(Segmentation.nucleus_df, cell_proportion, \n",
    "                                           Segmentation.spot_center, type_list, band_width=150))"
   ]
  },
  {
   "cell_type": "markdown",
   "metadata": {
    "collapsed": false
   },
   "source": [
    "Define the class `plot_visium` for generating the pseudo image. Then we plot the legend of the images."
   ]
  },
  {
   "cell_type": "code",
   "execution_count": null,
   "metadata": {
    "ExecuteTime": {
     "start_time": "2023-12-08T03:52:12.739217200Z"
    },
    "collapsed": false
   },
   "outputs": [],
   "source": [
    "plot_visium = spotiphy.plot.Plot_Visium(segmentation=Segmentation, boundary_dict=boundary_dict, \n",
    "                                        type_list=type_list)\n",
    "plot_visium.plot_legend(save=results_folder+'legend.png')"
   ]
  },
  {
   "cell_type": "markdown",
   "metadata": {
    "collapsed": false
   },
   "source": [
    "We now generate the pseudo image. The user need to specify the following arguments:\n",
    "- `shape`: When adding the cells, which shape should be used. Should be selected from `cell`, `nucleus`, or `circle`\n",
    "- `cell`: Which group of cells should be included in the image: `in`, `out`, or `both`. \n",
    "- `boundary`: Which group of boundaries should be included in the image: `in`, `out`, `both` or `None`. \n",
    "\n",
    "For example, if we want to generate a pseudo image with cells inside the spots, the following code can be used."
   ]
  },
  {
   "cell_type": "code",
   "execution_count": null,
   "metadata": {
    "ExecuteTime": {
     "end_time": "2023-12-08T03:52:12.745214200Z",
     "start_time": "2023-12-08T03:52:12.743217900Z"
    },
    "collapsed": false
   },
   "outputs": [],
   "source": [
    "plot_visium.plot(background=False, save=results_folder+'pseudo_image_in.png', spot_color=(200, 200, 200), \n",
    "                 shape='cell', cell='in', boundary='in', dpi=200)"
   ]
  },
  {
   "cell_type": "markdown",
   "metadata": {
    "collapsed": false
   },
   "source": [
    "If we want to show all the cells using circles without the cell boundary, we can use the following code:"
   ]
  },
  {
   "cell_type": "code",
   "execution_count": null,
   "metadata": {
    "ExecuteTime": {
     "end_time": "2023-12-08T03:52:12.747214200Z",
     "start_time": "2023-12-08T03:52:12.745214200Z"
    },
    "collapsed": false
   },
   "outputs": [],
   "source": [
    "plot_visium.plot(background=False, save=results_folder+'pseudo_image_both_circle.png',\n",
    "                 spot_color=(200, 200, 200), shape='circle', cell='both', boundary=None,\n",
    "                 dpi=200)"
   ]
  },
  {
   "cell_type": "markdown",
   "metadata": {
    "collapsed": false
   },
   "source": [
    "Note that we can also save the updated class `Segmentation` for future usage."
   ]
  },
  {
   "cell_type": "code",
   "execution_count": null,
   "metadata": {
    "ExecuteTime": {
     "end_time": "2023-12-08T03:52:12.749212600Z",
     "start_time": "2023-12-08T03:52:12.749212600Z"
    },
    "collapsed": false
   },
   "outputs": [],
   "source": [
    "with open(results_folder+f'segmentation/Segmentation.pkl', 'wb') as file:\n",
    "    pickle.dump(Segmentation, file)"
   ]
  }
 ],
 "metadata": {
  "accelerator": "GPU",
  "colab": {
   "gpuType": "T4",
   "provenance": []
  },
  "kernelspec": {
   "display_name": "Python 3 (ipykernel)",
   "language": "python",
   "name": "python3"
  },
  "language_info": {
   "name": "python"
  }
 },
 "nbformat": 4,
 "nbformat_minor": 0
}
