{
 "cells": [
  {
   "cell_type": "code",
   "execution_count": 6,
   "id": "initial_id",
   "metadata": {
    "collapsed": true,
    "ExecuteTime": {
     "end_time": "2023-08-31T22:57:56.932128400Z",
     "start_time": "2023-08-31T22:57:56.889251600Z"
    }
   },
   "outputs": [],
   "source": [
    "import spotiphy\n",
    "import numpy as np\n",
    "import pandas as pd\n",
    "import matplotlib as mpl\n",
    "import matplotlib.pyplot as plt\n",
    "from matplotlib import cm\n",
    "import scanpy as sc\n",
    "import squidpy as sq\n",
    "import seaborn as sns\n",
    "import anndata as ad\n",
    "from matplotlib.colors import ListedColormap\n",
    "from scipy.interpolate import griddata\n",
    "from scipy.ndimage import gaussian_filter"
   ]
  },
  {
   "cell_type": "code",
   "execution_count": 2,
   "outputs": [
    {
     "name": "stderr",
     "output_type": "stream",
     "text": [
      "anndata.py (1832): Variable names are not unique. To make them unique, call `.var_names_make_unique`.\n"
     ]
    }
   ],
   "source": [
    "adata_st = sc.read_visium(\"F:/Ziqian Zheng/Spotiphy_data/ST/Sample221/outs\")\n",
    "results_folder = 'Results/AD Sample 221/'\n",
    "cell_proportion = np.load(results_folder+'proportion.npy')\n",
    "X = adata_st.obsm['spatial']\n",
    "X[:, 1] = -X[:, 1]\n",
    "z = np.zeros(len(X))"
   ],
   "metadata": {
    "collapsed": false,
    "ExecuteTime": {
     "end_time": "2023-08-31T22:53:46.805257600Z",
     "start_time": "2023-08-31T22:53:45.417609400Z"
    }
   },
   "id": "17f40e3102d30abe"
  },
  {
   "cell_type": "code",
   "execution_count": 10,
   "outputs": [],
   "source": [
    "%matplotlib qt\n",
    "d = 20\n",
    "idx = 12\n",
    "p = cell_proportion[:, idx]\n",
    "norm = plt.Normalize(min(p), max(p))\n",
    "colors = cm.magma(norm(p))\n",
    "fig = plt.figure()\n",
    "ax = fig.add_subplot(111, projection='3d')\n",
    "ax.grid(False)\n",
    "ax.xaxis.set_pane_color((1.0, 1.0, 1.0, 0.0))\n",
    "ax.yaxis.set_pane_color((1.0, 1.0, 1.0, 0.0))\n",
    "ax.zaxis.set_pane_color((1.0, 1.0, 1.0, 0.0))\n",
    "ax.xaxis.line.set_color((1.0, 1.0, 1.0, 0.0))  # hide x-axis line\n",
    "ax.yaxis.line.set_color((1.0, 1.0, 1.0, 0.0))  # hide y-axis line\n",
    "ax.zaxis.line.set_color((1.0, 1.0, 1.0, 0.0))  # hide z-axis line\n",
    "ax.set_xticks([])\n",
    "ax.set_yticks([])\n",
    "ax.set_zticks([])\n",
    "\n",
    "for i in range(len(X)):\n",
    "    ax.bar3d(X[i, 0], X[i, 1], z[i], d, d, p[i], color=colors[i], edgecolor=colors[i])\n",
    "# ax.bar3d(X[:, 0], X[:, 1], z, d, d, p, color=colors, edgecolor=colors)\n",
    "\n",
    "mappable = cm.ScalarMappable(norm=norm, cmap=cm.magma)\n",
    "mappable.set_array(p)\n",
    "cbar = plt.colorbar(mappable, ax=ax, shrink=0.6)\n",
    "cbar.set_label('Height')\n",
    "plt.savefig('3d bar.png', dpi=400)"
   ],
   "metadata": {
    "collapsed": false,
    "ExecuteTime": {
     "end_time": "2023-08-31T23:01:11.875414600Z",
     "start_time": "2023-08-31T23:01:00.215344100Z"
    }
   },
   "id": "e802c99e98964e25"
  },
  {
   "cell_type": "code",
   "execution_count": 20,
   "outputs": [],
   "source": [
    "%matplotlib qt\n",
    "d = 20\n",
    "idx = 12\n",
    "p = cell_proportion[:, idx]\n",
    "xi = np.linspace(np.min(X[:, 0]), np.max(X[:, 0]), 100)\n",
    "yi = np.linspace(np.min(X[:, 1]), np.max(X[:, 1]), 100)\n",
    "Xi, Yi = np.meshgrid(xi, yi)\n",
    "p = griddata((X[:, 0], X[:, 1]), p, (Xi, Yi), method='cubic')\n",
    "p = gaussian_filter(p, 1)\n",
    "ignore = np.isnan(p)\n",
    "p[ignore] = 0\n",
    "norm = plt.Normalize(np.min(p), np.max(p))\n",
    "colors = cm.magma(norm(p))\n",
    "colors[ignore] = [1, 1, 1, 1]\n",
    "\n",
    "\n",
    "fig = plt.figure()\n",
    "ax = fig.add_subplot(111, projection='3d')\n",
    "ax.grid(False)\n",
    "ax.xaxis.set_pane_color((1.0, 1.0, 1.0, 0.0))\n",
    "ax.yaxis.set_pane_color((1.0, 1.0, 1.0, 0.0))\n",
    "ax.zaxis.set_pane_color((1.0, 1.0, 1.0, 0.0))\n",
    "ax.xaxis.line.set_color((1.0, 1.0, 1.0, 0.0))  # hide x-axis line\n",
    "ax.yaxis.line.set_color((1.0, 1.0, 1.0, 0.0))  # hide y-axis line\n",
    "ax.zaxis.line.set_color((1.0, 1.0, 1.0, 0.0))  # hide z-axis line\n",
    "ax.set_xticks([])\n",
    "ax.set_yticks([])\n",
    "ax.set_zticks([])\n",
    "\n",
    "surf = ax.plot_surface(Xi, Yi, p, facecolors=colors, shade=False)\n",
    "\n",
    "mappable = cm.ScalarMappable(norm=norm, cmap=cm.magma)\n",
    "mappable.set_array(p)\n",
    "cbar = plt.colorbar(mappable, ax=ax, shrink=0.6)\n",
    "cbar.set_label('Height')\n",
    "plt.savefig('3d surface.png', dpi=400)"
   ],
   "metadata": {
    "collapsed": false,
    "ExecuteTime": {
     "end_time": "2023-08-31T23:06:00.419196700Z",
     "start_time": "2023-08-31T23:05:59.561704300Z"
    }
   },
   "id": "1845ac82d5fb3e"
  },
  {
   "cell_type": "code",
   "execution_count": null,
   "outputs": [],
   "source": [],
   "metadata": {
    "collapsed": false
   },
   "id": "fe964ce13d81b89e"
  }
 ],
 "metadata": {
  "kernelspec": {
   "display_name": "Python 3",
   "language": "python",
   "name": "python3"
  },
  "language_info": {
   "codemirror_mode": {
    "name": "ipython",
    "version": 2
   },
   "file_extension": ".py",
   "mimetype": "text/x-python",
   "name": "python",
   "nbconvert_exporter": "python",
   "pygments_lexer": "ipython2",
   "version": "2.7.6"
  }
 },
 "nbformat": 4,
 "nbformat_minor": 5
}
