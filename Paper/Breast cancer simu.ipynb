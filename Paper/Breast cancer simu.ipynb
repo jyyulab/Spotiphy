{
 "cells": [
  {
   "cell_type": "code",
   "execution_count": 1,
   "outputs": [],
   "source": [
    "import spotiphy\n",
    "import numpy as np\n",
    "import pandas as pd\n",
    "import matplotlib as mpl\n",
    "import scanpy as sc\n",
    "import squidpy as sq\n",
    "import importlib as imp"
   ],
   "metadata": {
    "collapsed": false,
    "pycharm": {
     "name": "#%%\n"
    },
    "ExecuteTime": {
     "end_time": "2023-08-29T14:24:48.213200700Z",
     "start_time": "2023-08-29T14:24:35.680314Z"
    }
   }
  },
  {
   "cell_type": "code",
   "execution_count": 39,
   "outputs": [
    {
     "name": "stdout",
     "output_type": "stream",
     "text": [
      "There are 10 cell types: ['basal', 'bcells', 'fibroblasts', 'lumhr', 'lumsec', 'lymphatic', 'myeloid', 'pericytes', 'tcells', 'vascular']\n"
     ]
    }
   ],
   "source": [
    "sample = '8'\n",
    "results_folder = 'Results/Breast cancer/Simu ' + sample + '/'\n",
    "adata_sc = sc.read_h5ad(\"F:/Ziqian Zheng/Spotiphy_data/BreastCancerData/bcsc_down.h5ad\")\n",
    "adata_st = sc.read_h5ad(\"F:/Ziqian Zheng/Spotiphy_data/BreastCancerData/Simulated ST/ST_Simulated_BC\"+sample+\".h5ad\")\n",
    "key_type = 'broad_cell_type'\n",
    "type_list = sorted(list(adata_sc.obs[key_type].unique()))\n",
    "print(f'There are {len(type_list)} cell types: {type_list}')"
   ],
   "metadata": {
    "collapsed": false,
    "pycharm": {
     "name": "#%%\n"
    },
    "ExecuteTime": {
     "end_time": "2023-08-29T15:15:25.627077600Z",
     "start_time": "2023-08-29T15:15:14.880701600Z"
    }
   }
  },
  {
   "cell_type": "code",
   "execution_count": 40,
   "outputs": [],
   "source": [
    "adata_sc_orig = adata_sc.copy()\n",
    "adata_st_orig = adata_st.copy()"
   ],
   "metadata": {
    "collapsed": false,
    "ExecuteTime": {
     "end_time": "2023-08-29T15:15:26.757773900Z",
     "start_time": "2023-08-29T15:15:25.627077600Z"
    }
   }
  },
  {
   "cell_type": "code",
   "execution_count": 41,
   "outputs": [
    {
     "data": {
      "text/plain": "broad_cell_type\ntcells         43896\nmyeloid        22877\nvascular       15000\nbcells         12510\npericytes      10000\nlumsec          6401\nbasal           5000\nfibroblasts     5000\nlymphatic       5000\nlumhr           3599\nName: count, dtype: int64"
     },
     "execution_count": 41,
     "metadata": {},
     "output_type": "execute_result"
    }
   ],
   "source": [
    "adata_sc.obs.value_counts(key_type)"
   ],
   "metadata": {
    "collapsed": false,
    "pycharm": {
     "name": "#%%\n"
    },
    "ExecuteTime": {
     "end_time": "2023-08-29T15:15:26.774524600Z",
     "start_time": "2023-08-29T15:15:26.763500500Z"
    }
   }
  },
  {
   "cell_type": "markdown",
   "source": [
    "### Deconvolution"
   ],
   "metadata": {
    "collapsed": false,
    "pycharm": {
     "name": "#%% md\n"
    }
   }
  },
  {
   "cell_type": "code",
   "execution_count": 42,
   "outputs": [
    {
     "name": "stdout",
     "output_type": "stream",
     "text": [
      "Convert expression matrix to array: 4.58s\n",
      "Normalization: 42.84s\n",
      "Filtering: 48.1s\n",
      "Find common genes: 0.15s\n"
     ]
    }
   ],
   "source": [
    "adata_sc, adata_st = spotiphy.sc_reference.initialization(adata_sc, adata_st, verbose=1)"
   ],
   "metadata": {
    "collapsed": false,
    "pycharm": {
     "name": "#%%\n"
    },
    "ExecuteTime": {
     "end_time": "2023-08-29T15:17:02.462242900Z",
     "start_time": "2023-08-29T15:15:26.774524600Z"
    }
   }
  },
  {
   "cell_type": "code",
   "execution_count": 43,
   "outputs": [],
   "source": [
    "marker_gene_dict = spotiphy.sc_reference.marker_selection_1(adata_sc, key_type=key_type, return_dict=True, n_select=50,\n",
    "                                                            threshold_p=0.1, threshold_fold=1.5, q=0.15)\n",
    "marker_gene = []\n",
    "marker_gene_label = []\n",
    "for type_ in type_list:\n",
    "    marker_gene.extend(marker_gene_dict[type_])\n",
    "    marker_gene_label.extend([type_]*len(marker_gene_dict[type_]))\n",
    "marker_gene_df = pd.DataFrame({'gene':marker_gene, 'label':marker_gene_label})\n",
    "marker_gene_df.to_csv(results_folder+'marker_gene.csv')\n",
    "adata_sc = adata_sc[:, marker_gene]\n",
    "adata_st = adata_st[:, marker_gene]"
   ],
   "metadata": {
    "collapsed": false,
    "pycharm": {
     "name": "#%%\n"
    },
    "ExecuteTime": {
     "end_time": "2023-08-29T15:19:40.617739800Z",
     "start_time": "2023-08-29T15:17:02.484348500Z"
    }
   }
  },
  {
   "cell_type": "code",
   "execution_count": 44,
   "outputs": [
    {
     "name": "stderr",
     "output_type": "stream",
     "text": [
      "10it [00:00, 52.47it/s]\n",
      "sc_reference.py (354): Matplotlib is currently using agg, which is a non-GUI backend, so cannot show the figure.\n"
     ]
    }
   ],
   "source": [
    "sc_ref = spotiphy.construct_sc_ref(adata_sc, key_type=key_type)\n",
    "spotiphy.sc_reference.plot_heatmap(adata_sc, key_type, save=True, out_dir=results_folder)"
   ],
   "metadata": {
    "collapsed": false,
    "pycharm": {
     "name": "#%%\n"
    },
    "ExecuteTime": {
     "end_time": "2023-08-29T15:19:43.397499300Z",
     "start_time": "2023-08-29T15:19:40.617739800Z"
    }
   }
  },
  {
   "cell_type": "code",
   "execution_count": 45,
   "outputs": [
    {
     "name": "stderr",
     "output_type": "stream",
     "text": [
      "100%|██████████| 7000/7000 [03:40<00:00, 31.78it/s]\n",
      "deconvolution.py (103): Matplotlib is currently using agg, which is a non-GUI backend, so cannot show the figure.\n",
      "2037772055.py (7): Trying to modify attribute `.obs` of view, initializing view as actual.\n"
     ]
    }
   ],
   "source": [
    "X = np.array(adata_st.X)\n",
    "pyro_params = spotiphy.deconvolution.deconvolute(X, sc_ref, n_epoch=7000, plot=True, batch_prior=2)\n",
    "sigma = pyro_params['sigma'].cpu().detach().numpy()\n",
    "mean_exp = np.array([np.mean(np.sum(adata_sc.X[adata_sc.obs[key_type]==type_list[i]], axis=1)) for i in range(len(type_list))])\n",
    "cell_proportion = sigma/mean_exp\n",
    "cell_proportion = cell_proportion/np.sum(cell_proportion, axis=1)[:, np.newaxis]\n",
    "adata_st.obs[type_list] = cell_proportion\n",
    "np.save(results_folder+'proportion.npy', cell_proportion)"
   ],
   "metadata": {
    "collapsed": false,
    "pycharm": {
     "name": "#%%\n"
    },
    "ExecuteTime": {
     "end_time": "2023-08-29T15:23:29.096532900Z",
     "start_time": "2023-08-29T15:19:43.396490300Z"
    }
   }
  },
  {
   "cell_type": "code",
   "execution_count": 46,
   "outputs": [],
   "source": [
    "cell_proportion = np.load(results_folder+'proportion.npy')\n",
    "adata_st.obs[type_list] = cell_proportion\n",
    "type_list_order = type_list"
   ],
   "metadata": {
    "collapsed": false,
    "pycharm": {
     "name": "#%%\n"
    },
    "ExecuteTime": {
     "end_time": "2023-08-29T15:23:29.136534200Z",
     "start_time": "2023-08-29T15:23:29.086529600Z"
    }
   }
  },
  {
   "cell_type": "code",
   "execution_count": 47,
   "outputs": [],
   "source": [
    "vmax = np.quantile(adata_st.obs[type_list_order].values, 0.98, axis=0)\n",
    "vmax[vmax<0.05] = 0.05\n",
    "with mpl.rc_context({'figure.figsize': [4, 4.5], 'figure.dpi': 600}):\n",
    "    ax = sc.pl.spatial(adata_st, cmap='magma', color=type_list_order, img_key=None, vmin=0, vmax=list(vmax), ncols=4,\n",
    "                       size=0.38, show=False, )\n",
    "    ax[0].get_figure().savefig(results_folder+'spotiphy.jpg', bbox_inches='tight')"
   ],
   "metadata": {
    "collapsed": false,
    "pycharm": {
     "name": "#%%\n"
    },
    "ExecuteTime": {
     "end_time": "2023-08-29T15:23:40.026195Z",
     "start_time": "2023-08-29T15:23:29.106599600Z"
    }
   }
  },
  {
   "cell_type": "code",
   "execution_count": 48,
   "outputs": [],
   "source": [
    "%matplotlib agg\n",
    "%matplotlib agg\n",
    "vmax = np.quantile(adata_st.obs[type_list_order].values, 0.98, axis=0)\n",
    "vmax[vmax<0.05] = 0.05\n",
    "with mpl.rc_context({'figure.figsize': [5, 5], 'figure.dpi': 800}):\n",
    "    for i, cell_type in enumerate(type_list):\n",
    "        ax = sc.pl.spatial(adata_st, cmap='magma', color=cell_type, img_key=None, vmin=0, vmax=vmax[i], size=0.38, show=False)\n",
    "        cell_type = \"\".join(x for x in cell_type if x.isalnum())\n",
    "        ax[0].get_figure().savefig(results_folder+'individual/'+cell_type+'.jpg')"
   ],
   "metadata": {
    "collapsed": false,
    "ExecuteTime": {
     "end_time": "2023-08-29T15:23:47.754810500Z",
     "start_time": "2023-08-29T15:23:40.038008600Z"
    }
   }
  },
  {
   "cell_type": "markdown",
   "source": [
    "### Decomposition"
   ],
   "metadata": {
    "collapsed": false,
    "pycharm": {
     "name": "#%% md\n"
    }
   }
  },
  {
   "cell_type": "code",
   "execution_count": 49,
   "outputs": [
    {
     "name": "stdout",
     "output_type": "stream",
     "text": [
      "Prepared proportion data. Time use 0.12\n",
      "Initialized scRNA and ST data. Time use 98.54\n"
     ]
    },
    {
     "name": "stderr",
     "output_type": "stream",
     "text": [
      "10it [00:11,  1.11s/it]\n"
     ]
    },
    {
     "name": "stdout",
     "output_type": "stream",
     "text": [
      "Processed scRNA and ST data. Time use 86.02\n",
      "Decomposition complete. Time use 10.02\n",
      "Constructed ST decomposition data file. Time use 7.32\n",
      "Saved file to output folder. Time use 3.96\n"
     ]
    }
   ],
   "source": [
    "cell_proportion = np.load(results_folder+'proportion.npy')\n",
    "n_cell = np.repeat(10, len(adata_st))\n",
    "adata_st = adata_st_orig.copy()\n",
    "adata_sc = adata_sc_orig.copy()\n",
    "adata_st_decomposed = spotiphy.deconvolution.decomposition(adata_st, adata_sc, key_type, cell_proportion, save=True,\n",
    "                                                           out_dir=results_folder, threshold=0.1, verbose=1, filtering_gene=True,  \n",
    "                                                           spot_location=adata_st.obsm['X_spatial'], n_cell=n_cell, \n",
    "                                                           filename='ST_decomposition_simu_BC'+sample+'.h5ad')"
   ],
   "metadata": {
    "collapsed": false,
    "pycharm": {
     "name": "#%%\n"
    },
    "ExecuteTime": {
     "end_time": "2023-08-29T15:27:15.387368600Z",
     "start_time": "2023-08-29T15:23:47.757812800Z"
    }
   }
  },
  {
   "cell_type": "code",
   "execution_count": 50,
   "outputs": [
    {
     "data": {
      "text/plain": "      cell_type              spot_name  n_cell   location_x   location_y\n0         basal  AAACATGGTGAGAGGA-1_10       2   235.414641 -1504.043978\n1         basal  AAACATGGTGAGAGGA-1_10       2   235.414641 -1504.043978\n2         basal  AAACCGTTCGTCCAGG-1_10       4   755.418948 -1287.609170\n3         basal  AAACCGTTCGTCCAGG-1_10       4   755.418948 -1287.609170\n4         basal  AAACCGTTCGTCCAGG-1_10       4   755.418948 -1287.609170\n...         ...                    ...     ...          ...          ...\n28005  vascular  TTGGGACACTGCCCGC-1_10       1  1101.477392  -769.599903\n28006  vascular  TTGGTCACACTCGTAA-1_10       1   829.612843 -1201.229359\n28007  vascular  TTGTCACCGCGGTATC-1_10       1   297.045181 -1309.932043\n28008  vascular  TTGTGATCTGTTCAGT-1_10       1  1610.967302 -1652.647448\n28009  vascular  TTGTTTCCATACAACT-1_10       1   569.341090 -1137.010660\n\n[28010 rows x 5 columns]",
      "text/html": "<div>\n<style scoped>\n    .dataframe tbody tr th:only-of-type {\n        vertical-align: middle;\n    }\n\n    .dataframe tbody tr th {\n        vertical-align: top;\n    }\n\n    .dataframe thead th {\n        text-align: right;\n    }\n</style>\n<table border=\"1\" class=\"dataframe\">\n  <thead>\n    <tr style=\"text-align: right;\">\n      <th></th>\n      <th>cell_type</th>\n      <th>spot_name</th>\n      <th>n_cell</th>\n      <th>location_x</th>\n      <th>location_y</th>\n    </tr>\n  </thead>\n  <tbody>\n    <tr>\n      <th>0</th>\n      <td>basal</td>\n      <td>AAACATGGTGAGAGGA-1_10</td>\n      <td>2</td>\n      <td>235.414641</td>\n      <td>-1504.043978</td>\n    </tr>\n    <tr>\n      <th>1</th>\n      <td>basal</td>\n      <td>AAACATGGTGAGAGGA-1_10</td>\n      <td>2</td>\n      <td>235.414641</td>\n      <td>-1504.043978</td>\n    </tr>\n    <tr>\n      <th>2</th>\n      <td>basal</td>\n      <td>AAACCGTTCGTCCAGG-1_10</td>\n      <td>4</td>\n      <td>755.418948</td>\n      <td>-1287.609170</td>\n    </tr>\n    <tr>\n      <th>3</th>\n      <td>basal</td>\n      <td>AAACCGTTCGTCCAGG-1_10</td>\n      <td>4</td>\n      <td>755.418948</td>\n      <td>-1287.609170</td>\n    </tr>\n    <tr>\n      <th>4</th>\n      <td>basal</td>\n      <td>AAACCGTTCGTCCAGG-1_10</td>\n      <td>4</td>\n      <td>755.418948</td>\n      <td>-1287.609170</td>\n    </tr>\n    <tr>\n      <th>...</th>\n      <td>...</td>\n      <td>...</td>\n      <td>...</td>\n      <td>...</td>\n      <td>...</td>\n    </tr>\n    <tr>\n      <th>28005</th>\n      <td>vascular</td>\n      <td>TTGGGACACTGCCCGC-1_10</td>\n      <td>1</td>\n      <td>1101.477392</td>\n      <td>-769.599903</td>\n    </tr>\n    <tr>\n      <th>28006</th>\n      <td>vascular</td>\n      <td>TTGGTCACACTCGTAA-1_10</td>\n      <td>1</td>\n      <td>829.612843</td>\n      <td>-1201.229359</td>\n    </tr>\n    <tr>\n      <th>28007</th>\n      <td>vascular</td>\n      <td>TTGTCACCGCGGTATC-1_10</td>\n      <td>1</td>\n      <td>297.045181</td>\n      <td>-1309.932043</td>\n    </tr>\n    <tr>\n      <th>28008</th>\n      <td>vascular</td>\n      <td>TTGTGATCTGTTCAGT-1_10</td>\n      <td>1</td>\n      <td>1610.967302</td>\n      <td>-1652.647448</td>\n    </tr>\n    <tr>\n      <th>28009</th>\n      <td>vascular</td>\n      <td>TTGTTTCCATACAACT-1_10</td>\n      <td>1</td>\n      <td>569.341090</td>\n      <td>-1137.010660</td>\n    </tr>\n  </tbody>\n</table>\n<p>28010 rows × 5 columns</p>\n</div>"
     },
     "execution_count": 50,
     "metadata": {},
     "output_type": "execute_result"
    }
   ],
   "source": [
    "adata_st_decomposed.obs"
   ],
   "metadata": {
    "collapsed": false,
    "pycharm": {
     "name": "#%%\n"
    },
    "ExecuteTime": {
     "end_time": "2023-08-29T15:27:15.407386300Z",
     "start_time": "2023-08-29T15:27:15.387368600Z"
    }
   }
  },
  {
   "cell_type": "code",
   "execution_count": null,
   "outputs": [],
   "source": [],
   "metadata": {
    "collapsed": false
   }
  }
 ],
 "metadata": {
  "kernelspec": {
   "display_name": "Python 3",
   "language": "python",
   "name": "python3"
  },
  "language_info": {
   "codemirror_mode": {
    "name": "ipython",
    "version": 2
   },
   "file_extension": ".py",
   "mimetype": "text/x-python",
   "name": "python",
   "nbconvert_exporter": "python",
   "pygments_lexer": "ipython2",
   "version": "2.7.6"
  }
 },
 "nbformat": 4,
 "nbformat_minor": 0
}
