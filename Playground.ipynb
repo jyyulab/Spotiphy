{
 "cells": [
  {
   "cell_type": "code",
   "execution_count": 1,
   "outputs": [
    {
     "data": {
      "text/plain": "<module 'spotiphy' from 'C:\\\\Users\\\\zzheng92\\\\Desktop\\\\Spotiphy\\\\spotiphy\\\\__init__.py'>"
     },
     "execution_count": 1,
     "metadata": {},
     "output_type": "execute_result"
    }
   ],
   "source": [
    "import spotiphy\n",
    "import numpy as np\n",
    "import pandas as pd\n",
    "import matplotlib as mpl\n",
    "import matplotlib.pyplot as plt\n",
    "import seaborn as sns\n",
    "import scanpy as sc\n",
    "import squidpy as sq\n",
    "import importlib as imp\n",
    "import spotiphy\n",
    "import anndata as ad\n",
    "import umap\n",
    "imp.reload(spotiphy)"
   ],
   "metadata": {
    "collapsed": false,
    "pycharm": {
     "name": "#%%\n"
    }
   }
  },
  {
   "cell_type": "code",
   "execution_count": null,
   "outputs": [],
   "source": [
    "adata_st = sc.read_visium(\"F:/Ziqian Zheng/Spotiphy_data/ST/Sample221/outs\")"
   ],
   "metadata": {
    "collapsed": false,
    "pycharm": {
     "name": "#%%\n"
    }
   }
  },
  {
   "cell_type": "code",
   "execution_count": 2,
   "outputs": [],
   "source": [
    "import pyro\n",
    "import pyro.distributions as dist\n",
    "import pyro.distributions.constraints as constraints\n",
    "import torch"
   ],
   "metadata": {
    "collapsed": false,
    "pycharm": {
     "name": "#%%\n"
    }
   }
  },
  {
   "cell_type": "code",
   "execution_count": 9,
   "outputs": [],
   "source": [
    "device = 'cuda'\n",
    "# a1 = torch.ones(100, device=device) * -1\n",
    "# a2 = torch.ones(100, device=device)\n",
    "a1 = torch.rand(100, device=device)\n",
    "a2 = a1 + 1"
   ],
   "metadata": {
    "collapsed": false,
    "pycharm": {
     "name": "#%%\n"
    }
   }
  },
  {
   "cell_type": "code",
   "execution_count": 10,
   "outputs": [],
   "source": [
    "d = dist.Uniform(a1, a2)"
   ],
   "metadata": {
    "collapsed": false,
    "pycharm": {
     "name": "#%%\n"
    }
   }
  },
  {
   "cell_type": "code",
   "execution_count": 11,
   "outputs": [
    {
     "data": {
      "text/plain": "tensor([1.2305, 0.4110, 0.8852, 1.0451, 0.5310, 1.7590, 0.9031, 0.8532, 0.5137,\n        1.1173, 0.7232, 0.3063, 1.4454, 0.9900, 0.4974, 1.2673, 0.5911, 1.0162,\n        0.1577, 0.7259, 0.4241, 1.0262, 1.6744, 0.9695, 0.9636, 1.0928, 1.0372,\n        0.8008, 0.9691, 1.2470, 0.3679, 0.4536, 0.9812, 1.2172, 0.9131, 0.7657,\n        1.1023, 1.0618, 0.5322, 0.8429, 1.0304, 0.6797, 0.9835, 0.4292, 1.3834,\n        1.0452, 0.8250, 1.0522, 1.1457, 0.8214, 0.5450, 0.6247, 0.3767, 1.6201,\n        1.0487, 1.0087, 0.4932, 0.7631, 0.6403, 1.5682, 0.5428, 1.1248, 1.1206,\n        0.9651, 1.3896, 0.5588, 1.0522, 0.6973, 1.2056, 1.5012, 0.8385, 0.6099,\n        1.6699, 1.2112, 0.4588, 1.0130, 1.4965, 1.7225, 0.5703, 1.0930, 0.5938,\n        0.3669, 1.6804, 1.2872, 1.4026, 1.2543, 1.1124, 0.4104, 0.3312, 1.4613,\n        1.3364, 0.5044, 0.7706, 1.4047, 0.7283, 1.5145, 1.2877, 1.2359, 0.5345,\n        0.8793], device='cuda:0')"
     },
     "execution_count": 11,
     "metadata": {},
     "output_type": "execute_result"
    }
   ],
   "source": [
    "d.sample()"
   ],
   "metadata": {
    "collapsed": false,
    "pycharm": {
     "name": "#%%\n"
    }
   }
  },
  {
   "cell_type": "code",
   "execution_count": null,
   "outputs": [],
   "source": [],
   "metadata": {
    "collapsed": false,
    "pycharm": {
     "name": "#%%\n"
    }
   }
  }
 ],
 "metadata": {
  "kernelspec": {
   "display_name": "Python 3",
   "language": "python",
   "name": "python3"
  },
  "language_info": {
   "codemirror_mode": {
    "name": "ipython",
    "version": 2
   },
   "file_extension": ".py",
   "mimetype": "text/x-python",
   "name": "python",
   "nbconvert_exporter": "python",
   "pygments_lexer": "ipython2",
   "version": "2.7.6"
  }
 },
 "nbformat": 4,
 "nbformat_minor": 0
}