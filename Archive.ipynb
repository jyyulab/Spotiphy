{
 "cells": [
  {
   "cell_type": "code",
   "execution_count": null,
   "metadata": {
    "collapsed": true,
    "pycharm": {
     "name": "#%%\n"
    }
   },
   "outputs": [],
   "source": [
    "delete_type = ['Astrocyte', 'Oligodendrocyte', 'GABAergic', 'Glutamatergic', 'RadialGlia', 'OPC', 'Ependymal',\n",
    "               'Fibroblast', 'Endo']\n",
    "cell_type = adata_sc.obs['mergelabel'].values\n",
    "cell_type_new = cell_type.copy()\n",
    "select = np.isin(cell_type_new, delete_type)\n",
    "for i, s in enumerate(cell_type_new):\n",
    "    if s[:2] == 'CA':\n",
    "        cell_type_new[i] = 'CAs'\n",
    "    elif s[:2] == 'CD' or s[:2] == 'NK' or s == 'Treg':\n",
    "        cell_type_new[i] = 'TCell'\n",
    "    elif s == 'NSC':\n",
    "        cell_type_new[i] = 'Endo'\n",
    "adata_sc.obs['cell_type'] = cell_type_new\n",
    "adata_sc = adata_sc[~select]"
   ]
  },
  {
   "cell_type": "code",
   "execution_count": null,
   "outputs": [],
   "source": [
    "B_sub = pd.read_excel(\"F:/Ziqian Zheng/Spotiphy_data/SCRNA/mousebrain/B_color.xlsx\")\n",
    "B_sub['ID'] = ['ADsum_' + s for s in B_sub['ID']]\n",
    "adata_sc.obs.loc[B_sub['ID'], 'mergelabel'] = B_sub['color'].values\n",
    "adata_sc.obs.loc[B_sub['ID']]"
   ],
   "metadata": {
    "collapsed": false,
    "pycharm": {
     "name": "#%%\n"
    }
   }
  },
  {
   "cell_type": "code",
   "execution_count": null,
   "outputs": [],
   "source": [
    "T_sub = pd.read_excel(\"F:/Ziqian Zheng/Spotiphy_data/SCRNA/mousebrain/T_color.xlsx\")\n",
    "for i in range(len(T_sub)):\n",
    "    if T_sub.iloc[i, 1].isdigit():\n",
    "        T_sub.iloc[i, 1] = 'T_' + str(T_sub.iloc[i, 1])\n",
    "T_sub['ID'] = ['ADsum_' + s for s in T_sub['ID']]\n",
    "adata_sc.obs.loc[T_sub['ID'], 'mergelabel'] = T_sub['color'].values\n",
    "adata_sc.obs.loc[T_sub['ID']]"
   ],
   "metadata": {
    "collapsed": false,
    "pycharm": {
     "name": "#%%\n"
    }
   }
  },
  {
   "cell_type": "code",
   "execution_count": null,
   "outputs": [],
   "source": [],
   "metadata": {
    "collapsed": false,
    "pycharm": {
     "name": "#%%\n"
    }
   }
  }
 ],
 "metadata": {
  "kernelspec": {
   "display_name": "Python 3",
   "language": "python",
   "name": "python3"
  },
  "language_info": {
   "codemirror_mode": {
    "name": "ipython",
    "version": 2
   },
   "file_extension": ".py",
   "mimetype": "text/x-python",
   "name": "python",
   "nbconvert_exporter": "python",
   "pygments_lexer": "ipython2",
   "version": "2.7.6"
  }
 },
 "nbformat": 4,
 "nbformat_minor": 0
}