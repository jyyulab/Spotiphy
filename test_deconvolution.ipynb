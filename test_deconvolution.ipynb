{
 "cells": [
  {
   "cell_type": "code",
   "execution_count": 1,
   "outputs": [
    {
     "data": {
      "text/plain": "<module 'spotiphy.sc_reference' from 'C:\\\\Users\\\\zzheng92\\\\Desktop\\\\Spotiphy\\\\spotiphy\\\\sc_reference.py'>"
     },
     "execution_count": 1,
     "metadata": {},
     "output_type": "execute_result"
    }
   ],
   "source": [
    "import spotiphy\n",
    "import numpy as np\n",
    "import matplotlib as mpl\n",
    "import scanpy as sc\n",
    "import squidpy as sq\n",
    "import importlib as imp\n",
    "imp.reload(spotiphy)\n",
    "imp.reload(spotiphy.segmentation)\n",
    "imp.reload(spotiphy.sc_reference)"
   ],
   "metadata": {
    "collapsed": false,
    "pycharm": {
     "name": "#%%\n"
    }
   }
  },
  {
   "cell_type": "code",
   "execution_count": 2,
   "outputs": [
    {
     "name": "stderr",
     "output_type": "stream",
     "text": [
      "Image.py (3176): Image size (99010000 pixels) exceeds limit of 89478485 pixels, could be decompression bomb DOS attack.\n"
     ]
    }
   ],
   "source": [
    "adata_sc = sc.read_h5ad(\"F:/Ziqian Zheng/Spatial omics/Public dataset/scRNA/scRNA.h5ad\")\n",
    "# adata_st = sc.read_visium(\"F:/Ziqian Zheng/Spotiphy_data/ST/Sample221/outs\")\n",
    "adata_st = sc.read_h5ad(\"F:/Ziqian Zheng/Spotiphy_data/Simulated ST/Simulated_ST_221_1.h5ad\")\n",
    "adata_st.var_names_make_unique()\n",
    "img = sq.im.ImageContainer('F:/Ziqian Zheng/Spotiphy_data/ST/Sample221/Sample221.jpg')\n",
    "results_folder = 'results/simulation1/'\n",
    "key_type = 'Allen.subclass_label'\n",
    "type_list = sorted(list(adata_sc.obs[key_type].unique()))"
   ],
   "metadata": {
    "collapsed": false,
    "pycharm": {
     "name": "#%%\n"
    }
   }
  },
  {
   "cell_type": "code",
   "execution_count": 3,
   "outputs": [
    {
     "name": "stdout",
     "output_type": "stream",
     "text": [
      "Suppress the output of tensorflow prediction for tensorflow version 2.12.0>=2.9.0.\n",
      "Found model '2D_versatile_he' for 'StarDist2D'.\n",
      "Loading network weights from 'weights_best.h5'.\n",
      "Loading thresholds from 'thresholds.json'.\n",
      "Using default values: prob_thresh=0.692478, nms_thresh=0.3.\n"
     ]
    },
    {
     "name": "stderr",
     "output_type": "stream",
     "text": [
      "100%|██████████| 36/36 [01:07<00:00,  1.89s/it]\n"
     ]
    },
    {
     "name": "stdout",
     "output_type": "stream",
     "text": [
      "CPU times: total: 22min 19s\n",
      "Wall time: 1min 30s\n"
     ]
    }
   ],
   "source": [
    "%%time\n",
    "Segmentation = spotiphy.segmentation.Segmentation(img['image'][:, :, 0], adata_st.obsm['spatial'], out_dir=results_folder)\n",
    "Segmentation.segment_nucleus(save=True)\n",
    "n_cell_df = Segmentation.n_cell_df"
   ],
   "metadata": {
    "collapsed": false,
    "pycharm": {
     "name": "#%%\n"
    }
   }
  },
  {
   "cell_type": "code",
   "execution_count": 4,
   "outputs": [
    {
     "name": "stdout",
     "output_type": "stream",
     "text": [
      "CPU times: total: 2min 36s\n",
      "Wall time: 2min 36s\n"
     ]
    }
   ],
   "source": [
    "%%time\n",
    "adata_sc, adata_st = spotiphy.initialization(adata_sc, adata_st)"
   ],
   "metadata": {
    "collapsed": false,
    "pycharm": {
     "name": "#%%\n"
    }
   }
  },
  {
   "cell_type": "code",
   "execution_count": 5,
   "outputs": [
    {
     "name": "stdout",
     "output_type": "stream",
     "text": [
      "CPU times: total: 1min 1s\n",
      "Wall time: 1min 1s\n"
     ]
    }
   ],
   "source": [
    "%%time\n",
    "marker_gene = spotiphy.marker_selection(adata_sc, key_type=key_type, return_dict=False, n_select=40)\n",
    "adata_sc = adata_sc[:, marker_gene]\n",
    "adata_st = adata_st[:, marker_gene]"
   ],
   "metadata": {
    "collapsed": false,
    "pycharm": {
     "name": "#%%\n"
    }
   }
  },
  {
   "cell_type": "code",
   "execution_count": 6,
   "outputs": [
    {
     "name": "stdout",
     "output_type": "stream",
     "text": [
      "CPU times: total: 1min 25s\n",
      "Wall time: 1min 25s\n"
     ]
    }
   ],
   "source": [
    "%%time\n",
    "sc_ref = spotiphy.construct_sc_ref(adata_sc, key_type=key_type)\n",
    "# spotiphy.plot_sc_ref(sc_ref, type_list)"
   ],
   "metadata": {
    "collapsed": false,
    "pycharm": {
     "name": "#%%\n"
    }
   }
  },
  {
   "cell_type": "code",
   "execution_count": 7,
   "outputs": [
    {
     "name": "stderr",
     "output_type": "stream",
     "text": [
      "100%|██████████| 8000/8000 [03:57<00:00, 33.64it/s]\n"
     ]
    },
    {
     "name": "stdout",
     "output_type": "stream",
     "text": [
      "CPU times: total: 5min 27s\n",
      "Wall time: 5min 24s\n"
     ]
    },
    {
     "name": "stderr",
     "output_type": "stream",
     "text": [
      "<timed exec> (7): Trying to modify attribute `.obs` of view, initializing view as actual.\n"
     ]
    }
   ],
   "source": [
    "%%time\n",
    "X = np.array(adata_st.X)\n",
    "pyro_params = spotiphy.deconvolution.deconvolute(X, sc_ref)\n",
    "sigma = pyro_params['sigma'].cpu().detach().numpy()\n",
    "mean_exp = np.array([np.mean(np.sum(adata_sc.X[adata_sc.obs[key_type]==type_list[i]], axis=1)) for i in range(len(type_list))])\n",
    "cell_proportion = sigma/mean_exp\n",
    "cell_proportion = cell_proportion/np.sum(cell_proportion, axis=1)[:, np.newaxis]\n",
    "adata_st.obs[type_list] = cell_proportion\n",
    "np.save(results_folder+'proportion.npy', cell_proportion)"
   ],
   "metadata": {
    "collapsed": false,
    "pycharm": {
     "name": "#%%\n"
    }
   }
  },
  {
   "cell_type": "code",
   "execution_count": null,
   "outputs": [],
   "source": [],
   "metadata": {
    "collapsed": false,
    "pycharm": {
     "name": "#%%\n"
    }
   }
  }
 ],
 "metadata": {
  "kernelspec": {
   "display_name": "Python 3",
   "language": "python",
   "name": "python3"
  },
  "language_info": {
   "codemirror_mode": {
    "name": "ipython",
    "version": 2
   },
   "file_extension": ".py",
   "mimetype": "text/x-python",
   "name": "python",
   "nbconvert_exporter": "python",
   "pygments_lexer": "ipython2",
   "version": "2.7.6"
  }
 },
 "nbformat": 4,
 "nbformat_minor": 0
}