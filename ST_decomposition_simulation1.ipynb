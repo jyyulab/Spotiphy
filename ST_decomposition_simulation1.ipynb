{
 "cells": [
  {
   "cell_type": "markdown",
   "source": [
    "### Analyze batch effect"
   ],
   "metadata": {
    "collapsed": false,
    "pycharm": {
     "name": "#%% md\n"
    }
   }
  },
  {
   "cell_type": "code",
   "execution_count": 1,
   "outputs": [
    {
     "data": {
      "text/plain": "<module 'spotiphy' from 'C:\\\\Users\\\\zzheng92\\\\Desktop\\\\Spotiphy\\\\spotiphy\\\\__init__.py'>"
     },
     "execution_count": 1,
     "metadata": {},
     "output_type": "execute_result"
    }
   ],
   "source": [
    "import spotiphy\n",
    "import numpy as np\n",
    "import pandas as pd\n",
    "import matplotlib as mpl\n",
    "import matplotlib.pyplot as plt\n",
    "import seaborn as sns\n",
    "import scanpy as sc\n",
    "import squidpy as sq\n",
    "import importlib as imp\n",
    "import spotiphy\n",
    "import anndata as ad\n",
    "import umap\n",
    "imp.reload(spotiphy)"
   ],
   "metadata": {
    "collapsed": false,
    "pycharm": {
     "name": "#%%\n"
    }
   }
  },
  {
   "cell_type": "code",
   "execution_count": 4,
   "outputs": [
    {
     "name": "stderr",
     "output_type": "stream",
     "text": [
      "anndata.py (1832): Variable names are not unique. To make them unique, call `.var_names_make_unique`.\n"
     ]
    },
    {
     "name": "stdout",
     "output_type": "stream",
     "text": [
      "CPU times: total: 2.09 s\n",
      "Wall time: 2.09 s\n"
     ]
    }
   ],
   "source": [
    "%%time\n",
    "# adata_sc_files = [\"F:/Ziqian Zheng/Spatial omics/Public dataset/scRNA/scRNA.h5ad\",\n",
    "#                   \"F:/Ziqian Zheng/Spotiphy_data/SCRNA/sum_43plus_anno.h5ad\",]\n",
    "# adata_sc = sc.read_h5ad(adata_sc_files[1])\n",
    "adata_st = sc.read_visium(\"F:/Ziqian Zheng/Spotiphy_data/ST/Sample221/outs\")\n",
    "adata_st_simulated = sc.read_h5ad('results/221_43plus/Simulated_ST.h5ad')\n",
    "adata_st.var_names_make_unique()\n",
    "results_folder = 'results/221_43plus/'\n",
    "key_type = 'majortype'\n",
    "# type_list = sorted(list(adata_sc.obs[key_type].unique()))\n",
    "cell_proportion = np.load(results_folder+'proportion.npy')"
   ],
   "metadata": {
    "collapsed": false,
    "pycharm": {
     "name": "#%%\n"
    }
   }
  },
  {
   "cell_type": "code",
   "execution_count": 5,
   "outputs": [],
   "source": [
    "common_gene = list(set(adata_st.var_names).intersection(set(adata_st_simulated.var_names)))\n",
    "adata_st = adata_st[:, common_gene]\n",
    "adata_st_simulated = adata_st_simulated[:, common_gene]"
   ],
   "metadata": {
    "collapsed": false,
    "pycharm": {
     "name": "#%%\n"
    }
   }
  },
  {
   "cell_type": "code",
   "execution_count": 6,
   "outputs": [],
   "source": [
    "X = adata_st.X.toarray()\n",
    "X_simulated = adata_st_simulated.X.toarray()"
   ],
   "metadata": {
    "collapsed": false,
    "pycharm": {
     "name": "#%%\n"
    }
   }
  },
  {
   "cell_type": "code",
   "execution_count": 13,
   "outputs": [],
   "source": [
    "X = X/np.sum(X, axis=1, keepdims=True) * 10**6\n",
    "X_simulated = X_simulated/np.sum(X_simulated, axis=1, keepdims=True) * 10**6"
   ],
   "metadata": {
    "collapsed": false,
    "pycharm": {
     "name": "#%%\n"
    }
   }
  },
  {
   "cell_type": "code",
   "execution_count": null,
   "outputs": [
    {
     "data": {
      "text/plain": "<matplotlib.collections.PathCollection at 0x29e32daa8b0>"
     },
     "execution_count": 22,
     "metadata": {},
     "output_type": "execute_result"
    }
   ],
   "source": [
    "plt.scatter(X.flatten()[::10], X_simulated.flatten()[::10], s=1)"
   ],
   "metadata": {
    "collapsed": false,
    "pycharm": {
     "name": "#%%\n"
    }
   }
  },
  {
   "cell_type": "code",
   "execution_count": null,
   "outputs": [],
   "source": [],
   "metadata": {
    "collapsed": false,
    "pycharm": {
     "name": "#%%\n"
    }
   }
  }
 ],
 "metadata": {
  "kernelspec": {
   "display_name": "Python 3",
   "language": "python",
   "name": "python3"
  },
  "language_info": {
   "codemirror_mode": {
    "name": "ipython",
    "version": 2
   },
   "file_extension": ".py",
   "mimetype": "text/x-python",
   "name": "python",
   "nbconvert_exporter": "python",
   "pygments_lexer": "ipython2",
   "version": "2.7.6"
  }
 },
 "nbformat": 4,
 "nbformat_minor": 0
}