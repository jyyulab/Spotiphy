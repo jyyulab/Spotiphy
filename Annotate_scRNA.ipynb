{
 "cells": [
  {
   "cell_type": "code",
   "execution_count": 1,
   "outputs": [],
   "source": [
    "import squidpy as sq\n",
    "import scanpy as sc\n",
    "import matplotlib as mpl\n",
    "import matplotlib.pyplot as plt\n",
    "import pandas as pd\n",
    "import numpy as np\n",
    "import seaborn as sns\n",
    "import anndata as ad"
   ],
   "metadata": {
    "collapsed": false,
    "pycharm": {
     "name": "#%%\n"
    }
   }
  },
  {
   "cell_type": "code",
   "execution_count": 2,
   "outputs": [],
   "source": [
    "adata_sc = sc.read_h5ad(\"F:/Ziqian Zheng/Spotiphy_data/SCRNA/sum_19plus_anno.h5ad\")"
   ],
   "metadata": {
    "collapsed": false,
    "pycharm": {
     "name": "#%%\n"
    }
   }
  },
  {
   "cell_type": "code",
   "execution_count": 5,
   "outputs": [],
   "source": [
    "annotation = pd.read_csv(\"F:/Ziqian Zheng/Spotiphy_data/SCRNA/sum_phenotype.txt\", header=0, delimiter='\\t')"
   ],
   "metadata": {
    "collapsed": false,
    "pycharm": {
     "name": "#%%\n"
    }
   }
  },
  {
   "cell_type": "code",
   "execution_count": 7,
   "outputs": [],
   "source": [
    "adata_sc.obs = annotation"
   ],
   "metadata": {
    "collapsed": false,
    "pycharm": {
     "name": "#%%\n"
    }
   }
  },
  {
   "cell_type": "code",
   "execution_count": 8,
   "outputs": [],
   "source": [
    "# adata_sc.write(\"F:/Ziqian Zheng/Spotiphy_data/SCRNA/sum_19plus_anno_updated.h5ad\")"
   ],
   "metadata": {
    "collapsed": false,
    "pycharm": {
     "name": "#%%\n"
    }
   }
  },
  {
   "cell_type": "code",
   "execution_count": 9,
   "outputs": [
    {
     "data": {
      "text/plain": "                          orig.ident  nCount_RNA  nFeature_RNA  percent.mt  \\\nNCF200_AAACAGCCAACTAGAA-1     NCF200        6457          2512    4.692582   \nNCF200_AAACAGCCAGCAACAG-1     NCF200        1952          1092    1.997951   \nNCF200_AAACATGCAACTGGCT-1     NCF200        1530           969    2.287582   \nNCF200_AAACATGCATGCATAT-1     NCF200        1161           713    1.119724   \nNCF200_AAACCAACAACTCGCG-1     NCF200        1695           934    6.135693   \n...                              ...         ...           ...         ...   \nNCF64_TTTGTGTTCAAATCGC-1       NCF64       12905          4108    2.502906   \nNCF64_TTTGTGTTCATTACTC-1       NCF64       14723          4368    5.909122   \nNCF64_TTTGTGTTCCAGGTTG-1       NCF64       13058          4104    0.673916   \nNCF64_TTTGTGTTCCTTGTTG-1       NCF64        7731          3296    1.164144   \nNCF64_TTTGTTGGTTGCAGTA-1       NCF64        8089          2902    4.969712   \n\n                             age  gender genotype group  RNA_snn_res.0.5  \\\nNCF200_AAACAGCCAACTAGAA-1   4mon    Male       WT    M4                1   \nNCF200_AAACAGCCAGCAACAG-1   4mon    Male       WT    M4                0   \nNCF200_AAACATGCAACTGGCT-1   4mon    Male       WT    M4                0   \nNCF200_AAACATGCATGCATAT-1   4mon    Male       WT    M4               14   \nNCF200_AAACCAACAACTCGCG-1   4mon    Male       WT    M4                0   \n...                          ...     ...      ...   ...              ...   \nNCF64_TTTGTGTTCAAATCGC-1   12mon  Female      FAD   F12                4   \nNCF64_TTTGTGTTCATTACTC-1   12mon  Female      FAD   F12                3   \nNCF64_TTTGTGTTCCAGGTTG-1   12mon  Female      FAD   F12               25   \nNCF64_TTTGTGTTCCTTGTTG-1   12mon  Female      FAD   F12               26   \nNCF64_TTTGTTGGTTGCAGTA-1   12mon  Female      FAD   F12                1   \n\n                           seurat_clusters  ...  CellName nUMI.total nGene  \\\nNCF200_AAACAGCCAACTAGAA-1                1  ...    NCF200       6457  2512   \nNCF200_AAACAGCCAGCAACAG-1                0  ...    NCF200       1952  1092   \nNCF200_AAACATGCAACTGGCT-1                0  ...    NCF200       1530   969   \nNCF200_AAACATGCATGCATAT-1               14  ...    NCF200       1161   713   \nNCF200_AAACCAACAACTCGCG-1                0  ...    NCF200       1695   934   \n...                                    ...  ...       ...        ...   ...   \nNCF64_TTTGTGTTCAAATCGC-1                 4  ...     NCF64      12905  4108   \nNCF64_TTTGTGTTCATTACTC-1                 3  ...     NCF64      14723  4368   \nNCF64_TTTGTGTTCCAGGTTG-1                25  ...     NCF64      13058  4104   \nNCF64_TTTGTGTTCCTTGTTG-1                26  ...     NCF64       7731  3296   \nNCF64_TTTGTTGGTTGCAGTA-1                 1  ...     NCF64       8089  2902   \n\n                           percent.mito  percent.spikeIn          X  \\\nNCF200_AAACAGCCAACTAGAA-1      4.692582                0  11.134780   \nNCF200_AAACAGCCAGCAACAG-1      1.997951                0  11.721280   \nNCF200_AAACATGCAACTGGCT-1      2.287582                0  11.778360   \nNCF200_AAACATGCATGCATAT-1      1.119724                0   6.514742   \nNCF200_AAACCAACAACTCGCG-1      6.135693                0  10.861240   \n...                                 ...              ...        ...   \nNCF64_TTTGTGTTCAAATCGC-1       2.502906                0  -1.287357   \nNCF64_TTTGTGTTCATTACTC-1       5.909122                0  -4.494774   \nNCF64_TTTGTGTTCCAGGTTG-1       0.673916                0  -1.245576   \nNCF64_TTTGTGTTCCTTGTTG-1       1.164144                0   6.957877   \nNCF64_TTTGTTGGTTGCAGTA-1       4.969712                0  12.078210   \n\n                                   Y  ClusterRes        majortype  \\\nNCF200_AAACAGCCAACTAGAA-1  14.217435           1        Microglia   \nNCF200_AAACAGCCAGCAACAG-1  14.725556           2        Microglia   \nNCF200_AAACATGCAACTGGCT-1  14.225671           2        Microglia   \nNCF200_AAACATGCATGCATAT-1  -1.926234          29         Pericyte   \nNCF200_AAACCAACAACTCGCG-1  15.740244           4        Microglia   \n...                              ...         ...              ...   \nNCF64_TTTGTGTTCAAATCGC-1    1.356972          20        Astrocyte   \nNCF64_TTTGTGTTCATTACTC-1    8.605721           5  Oligodendrocyte   \nNCF64_TTTGTGTTCCAGGTTG-1   10.470936          21              OPC   \nNCF64_TTTGTGTTCCTTGTTG-1    1.752488          16        Ependymal   \nNCF64_TTTGTTGGTTGCAGTA-1    5.996086          31        Microglia   \n\n                                     decon  \nNCF200_AAACAGCCAACTAGAA-1        Microglia  \nNCF200_AAACAGCCAGCAACAG-1        Microglia  \nNCF200_AAACATGCAACTGGCT-1        Microglia  \nNCF200_AAACATGCATGCATAT-1         Pericyte  \nNCF200_AAACCAACAACTCGCG-1        Microglia  \n...                                    ...  \nNCF64_TTTGTGTTCAAATCGC-1         Astrocyte  \nNCF64_TTTGTGTTCATTACTC-1   Oligodendrocyte  \nNCF64_TTTGTGTTCCAGGTTG-1               OPC  \nNCF64_TTTGTGTTCCTTGTTG-1         Ependymal  \nNCF64_TTTGTTGGTTGCAGTA-1         Microglia  \n\n[63484 rows x 22 columns]",
      "text/html": "<div>\n<style scoped>\n    .dataframe tbody tr th:only-of-type {\n        vertical-align: middle;\n    }\n\n    .dataframe tbody tr th {\n        vertical-align: top;\n    }\n\n    .dataframe thead th {\n        text-align: right;\n    }\n</style>\n<table border=\"1\" class=\"dataframe\">\n  <thead>\n    <tr style=\"text-align: right;\">\n      <th></th>\n      <th>orig.ident</th>\n      <th>nCount_RNA</th>\n      <th>nFeature_RNA</th>\n      <th>percent.mt</th>\n      <th>age</th>\n      <th>gender</th>\n      <th>genotype</th>\n      <th>group</th>\n      <th>RNA_snn_res.0.5</th>\n      <th>seurat_clusters</th>\n      <th>...</th>\n      <th>CellName</th>\n      <th>nUMI.total</th>\n      <th>nGene</th>\n      <th>percent.mito</th>\n      <th>percent.spikeIn</th>\n      <th>X</th>\n      <th>Y</th>\n      <th>ClusterRes</th>\n      <th>majortype</th>\n      <th>decon</th>\n    </tr>\n  </thead>\n  <tbody>\n    <tr>\n      <th>NCF200_AAACAGCCAACTAGAA-1</th>\n      <td>NCF200</td>\n      <td>6457</td>\n      <td>2512</td>\n      <td>4.692582</td>\n      <td>4mon</td>\n      <td>Male</td>\n      <td>WT</td>\n      <td>M4</td>\n      <td>1</td>\n      <td>1</td>\n      <td>...</td>\n      <td>NCF200</td>\n      <td>6457</td>\n      <td>2512</td>\n      <td>4.692582</td>\n      <td>0</td>\n      <td>11.134780</td>\n      <td>14.217435</td>\n      <td>1</td>\n      <td>Microglia</td>\n      <td>Microglia</td>\n    </tr>\n    <tr>\n      <th>NCF200_AAACAGCCAGCAACAG-1</th>\n      <td>NCF200</td>\n      <td>1952</td>\n      <td>1092</td>\n      <td>1.997951</td>\n      <td>4mon</td>\n      <td>Male</td>\n      <td>WT</td>\n      <td>M4</td>\n      <td>0</td>\n      <td>0</td>\n      <td>...</td>\n      <td>NCF200</td>\n      <td>1952</td>\n      <td>1092</td>\n      <td>1.997951</td>\n      <td>0</td>\n      <td>11.721280</td>\n      <td>14.725556</td>\n      <td>2</td>\n      <td>Microglia</td>\n      <td>Microglia</td>\n    </tr>\n    <tr>\n      <th>NCF200_AAACATGCAACTGGCT-1</th>\n      <td>NCF200</td>\n      <td>1530</td>\n      <td>969</td>\n      <td>2.287582</td>\n      <td>4mon</td>\n      <td>Male</td>\n      <td>WT</td>\n      <td>M4</td>\n      <td>0</td>\n      <td>0</td>\n      <td>...</td>\n      <td>NCF200</td>\n      <td>1530</td>\n      <td>969</td>\n      <td>2.287582</td>\n      <td>0</td>\n      <td>11.778360</td>\n      <td>14.225671</td>\n      <td>2</td>\n      <td>Microglia</td>\n      <td>Microglia</td>\n    </tr>\n    <tr>\n      <th>NCF200_AAACATGCATGCATAT-1</th>\n      <td>NCF200</td>\n      <td>1161</td>\n      <td>713</td>\n      <td>1.119724</td>\n      <td>4mon</td>\n      <td>Male</td>\n      <td>WT</td>\n      <td>M4</td>\n      <td>14</td>\n      <td>14</td>\n      <td>...</td>\n      <td>NCF200</td>\n      <td>1161</td>\n      <td>713</td>\n      <td>1.119724</td>\n      <td>0</td>\n      <td>6.514742</td>\n      <td>-1.926234</td>\n      <td>29</td>\n      <td>Pericyte</td>\n      <td>Pericyte</td>\n    </tr>\n    <tr>\n      <th>NCF200_AAACCAACAACTCGCG-1</th>\n      <td>NCF200</td>\n      <td>1695</td>\n      <td>934</td>\n      <td>6.135693</td>\n      <td>4mon</td>\n      <td>Male</td>\n      <td>WT</td>\n      <td>M4</td>\n      <td>0</td>\n      <td>0</td>\n      <td>...</td>\n      <td>NCF200</td>\n      <td>1695</td>\n      <td>934</td>\n      <td>6.135693</td>\n      <td>0</td>\n      <td>10.861240</td>\n      <td>15.740244</td>\n      <td>4</td>\n      <td>Microglia</td>\n      <td>Microglia</td>\n    </tr>\n    <tr>\n      <th>...</th>\n      <td>...</td>\n      <td>...</td>\n      <td>...</td>\n      <td>...</td>\n      <td>...</td>\n      <td>...</td>\n      <td>...</td>\n      <td>...</td>\n      <td>...</td>\n      <td>...</td>\n      <td>...</td>\n      <td>...</td>\n      <td>...</td>\n      <td>...</td>\n      <td>...</td>\n      <td>...</td>\n      <td>...</td>\n      <td>...</td>\n      <td>...</td>\n      <td>...</td>\n      <td>...</td>\n    </tr>\n    <tr>\n      <th>NCF64_TTTGTGTTCAAATCGC-1</th>\n      <td>NCF64</td>\n      <td>12905</td>\n      <td>4108</td>\n      <td>2.502906</td>\n      <td>12mon</td>\n      <td>Female</td>\n      <td>FAD</td>\n      <td>F12</td>\n      <td>4</td>\n      <td>4</td>\n      <td>...</td>\n      <td>NCF64</td>\n      <td>12905</td>\n      <td>4108</td>\n      <td>2.502906</td>\n      <td>0</td>\n      <td>-1.287357</td>\n      <td>1.356972</td>\n      <td>20</td>\n      <td>Astrocyte</td>\n      <td>Astrocyte</td>\n    </tr>\n    <tr>\n      <th>NCF64_TTTGTGTTCATTACTC-1</th>\n      <td>NCF64</td>\n      <td>14723</td>\n      <td>4368</td>\n      <td>5.909122</td>\n      <td>12mon</td>\n      <td>Female</td>\n      <td>FAD</td>\n      <td>F12</td>\n      <td>3</td>\n      <td>3</td>\n      <td>...</td>\n      <td>NCF64</td>\n      <td>14723</td>\n      <td>4368</td>\n      <td>5.909122</td>\n      <td>0</td>\n      <td>-4.494774</td>\n      <td>8.605721</td>\n      <td>5</td>\n      <td>Oligodendrocyte</td>\n      <td>Oligodendrocyte</td>\n    </tr>\n    <tr>\n      <th>NCF64_TTTGTGTTCCAGGTTG-1</th>\n      <td>NCF64</td>\n      <td>13058</td>\n      <td>4104</td>\n      <td>0.673916</td>\n      <td>12mon</td>\n      <td>Female</td>\n      <td>FAD</td>\n      <td>F12</td>\n      <td>25</td>\n      <td>25</td>\n      <td>...</td>\n      <td>NCF64</td>\n      <td>13058</td>\n      <td>4104</td>\n      <td>0.673916</td>\n      <td>0</td>\n      <td>-1.245576</td>\n      <td>10.470936</td>\n      <td>21</td>\n      <td>OPC</td>\n      <td>OPC</td>\n    </tr>\n    <tr>\n      <th>NCF64_TTTGTGTTCCTTGTTG-1</th>\n      <td>NCF64</td>\n      <td>7731</td>\n      <td>3296</td>\n      <td>1.164144</td>\n      <td>12mon</td>\n      <td>Female</td>\n      <td>FAD</td>\n      <td>F12</td>\n      <td>26</td>\n      <td>26</td>\n      <td>...</td>\n      <td>NCF64</td>\n      <td>7731</td>\n      <td>3296</td>\n      <td>1.164144</td>\n      <td>0</td>\n      <td>6.957877</td>\n      <td>1.752488</td>\n      <td>16</td>\n      <td>Ependymal</td>\n      <td>Ependymal</td>\n    </tr>\n    <tr>\n      <th>NCF64_TTTGTTGGTTGCAGTA-1</th>\n      <td>NCF64</td>\n      <td>8089</td>\n      <td>2902</td>\n      <td>4.969712</td>\n      <td>12mon</td>\n      <td>Female</td>\n      <td>FAD</td>\n      <td>F12</td>\n      <td>1</td>\n      <td>1</td>\n      <td>...</td>\n      <td>NCF64</td>\n      <td>8089</td>\n      <td>2902</td>\n      <td>4.969712</td>\n      <td>0</td>\n      <td>12.078210</td>\n      <td>5.996086</td>\n      <td>31</td>\n      <td>Microglia</td>\n      <td>Microglia</td>\n    </tr>\n  </tbody>\n</table>\n<p>63484 rows × 22 columns</p>\n</div>"
     },
     "execution_count": 9,
     "metadata": {},
     "output_type": "execute_result"
    }
   ],
   "source": [
    "adata_sc.obs"
   ],
   "metadata": {
    "collapsed": false,
    "pycharm": {
     "name": "#%%\n"
    }
   }
  },
  {
   "cell_type": "code",
   "execution_count": 13,
   "outputs": [
    {
     "name": "stdout",
     "output_type": "stream",
     "text": [
      "['Microglia', 'Pericyte', 'Oligodendrocyte', 'Astrocyte', 'NSC', 'BCell', 'CD8T_Exhausted', 'Macrophage', 'GABAergic', 'Ependymal', 'Treg', 'OPC', 'CD8T_Effector', 'CD8T_Naive', 'Glutamatergic', 'NK/NKT', 'Fibroblast', 'DAM', 'RadialGlia', 'Neutrophil']\n"
     ]
    }
   ],
   "source": [
    "print(list(adata_sc.obs['decon'].unique()))"
   ],
   "metadata": {
    "collapsed": false,
    "pycharm": {
     "name": "#%%\n"
    }
   }
  }
 ],
 "metadata": {
  "kernelspec": {
   "display_name": "Python 3",
   "language": "python",
   "name": "python3"
  },
  "language_info": {
   "codemirror_mode": {
    "name": "ipython",
    "version": 2
   },
   "file_extension": ".py",
   "mimetype": "text/x-python",
   "name": "python",
   "nbconvert_exporter": "python",
   "pygments_lexer": "ipython2",
   "version": "2.7.6"
  }
 },
 "nbformat": 4,
 "nbformat_minor": 0
}